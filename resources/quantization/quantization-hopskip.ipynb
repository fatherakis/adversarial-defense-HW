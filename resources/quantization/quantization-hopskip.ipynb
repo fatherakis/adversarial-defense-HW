{
 "cells": [
  {
   "cell_type": "code",
   "execution_count": 1,
   "id": "f774cbda",
   "metadata": {
    "_cell_guid": "b1076dfc-b9ad-4769-8c92-a6c4dae69d19",
    "_uuid": "8f2839f25d086af736a60e9eeb907d3b93b6e0e5",
    "execution": {
     "iopub.execute_input": "2024-02-24T22:04:58.066562Z",
     "iopub.status.busy": "2024-02-24T22:04:58.065826Z",
     "iopub.status.idle": "2024-02-24T22:05:16.302788Z",
     "shell.execute_reply": "2024-02-24T22:05:16.301749Z"
    },
    "papermill": {
     "duration": 18.245649,
     "end_time": "2024-02-24T22:05:16.305571",
     "exception": false,
     "start_time": "2024-02-24T22:04:58.059922",
     "status": "completed"
    },
    "tags": []
   },
   "outputs": [
    {
     "name": "stdout",
     "output_type": "stream",
     "text": [
      "Collecting adversarial-robustness-toolbox\r\n",
      "  Downloading adversarial_robustness_toolbox-1.17.1-py3-none-any.whl.metadata (11 kB)\r\n",
      "Requirement already satisfied: numpy>=1.18.0 in /opt/conda/lib/python3.10/site-packages (from adversarial-robustness-toolbox) (1.24.4)\r\n",
      "Requirement already satisfied: scipy>=1.4.1 in /opt/conda/lib/python3.10/site-packages (from adversarial-robustness-toolbox) (1.11.4)\r\n",
      "Requirement already satisfied: scikit-learn>=0.22.2 in /opt/conda/lib/python3.10/site-packages (from adversarial-robustness-toolbox) (1.2.2)\r\n",
      "Requirement already satisfied: six in /opt/conda/lib/python3.10/site-packages (from adversarial-robustness-toolbox) (1.16.0)\r\n",
      "Requirement already satisfied: setuptools in /opt/conda/lib/python3.10/site-packages (from adversarial-robustness-toolbox) (69.0.3)\r\n",
      "Requirement already satisfied: tqdm in /opt/conda/lib/python3.10/site-packages (from adversarial-robustness-toolbox) (4.66.1)\r\n",
      "Requirement already satisfied: joblib>=1.1.1 in /opt/conda/lib/python3.10/site-packages (from scikit-learn>=0.22.2->adversarial-robustness-toolbox) (1.3.2)\r\n",
      "Requirement already satisfied: threadpoolctl>=2.0.0 in /opt/conda/lib/python3.10/site-packages (from scikit-learn>=0.22.2->adversarial-robustness-toolbox) (3.2.0)\r\n",
      "Downloading adversarial_robustness_toolbox-1.17.1-py3-none-any.whl (1.7 MB)\r\n",
      "\u001b[2K   \u001b[90m━━━━━━━━━━━━━━━━━━━━━━━━━━━━━━━━━━━━━━━━\u001b[0m \u001b[32m1.7/1.7 MB\u001b[0m \u001b[31m32.8 MB/s\u001b[0m eta \u001b[36m0:00:00\u001b[0m\r\n",
      "\u001b[?25hInstalling collected packages: adversarial-robustness-toolbox\r\n",
      "Successfully installed adversarial-robustness-toolbox-1.17.1\r\n"
     ]
    }
   ],
   "source": [
    "!pip install adversarial-robustness-toolbox"
   ]
  },
  {
   "cell_type": "code",
   "execution_count": 2,
   "id": "2c7428a6",
   "metadata": {
    "execution": {
     "iopub.execute_input": "2024-02-24T22:05:16.317404Z",
     "iopub.status.busy": "2024-02-24T22:05:16.316992Z",
     "iopub.status.idle": "2024-02-24T22:05:27.718416Z",
     "shell.execute_reply": "2024-02-24T22:05:27.717292Z"
    },
    "papermill": {
     "duration": 11.410614,
     "end_time": "2024-02-24T22:05:27.721197",
     "exception": false,
     "start_time": "2024-02-24T22:05:16.310583",
     "status": "completed"
    },
    "tags": []
   },
   "outputs": [],
   "source": [
    "import numpy as np\n",
    "import cv2\n",
    "import os\n",
    "import pickle\n",
    "import torch.nn as nn\n",
    "import torch\n",
    "import torchvision\n",
    "import torchvision.transforms as transforms\n",
    "from torchvision import datasets\n",
    "import time\n",
    "from math import log10, sqrt\n",
    "from torch.utils.data import DataLoader\n",
    "from art.utils import load_cifar10\n",
    "from art.estimators.classification import PyTorchClassifier\n",
    "import torch.optim as optim\n",
    "import random\n",
    "from art.preprocessing.standardisation_mean_std import StandardisationMeanStdPyTorch\n",
    "from art.attacks.evasion.hop_skip_jump import HopSkipJump\n",
    "from torch.quantization import MovingAverageMinMaxObserver\n",
    "from torch.ao.quantization.observer import MinMaxObserver\n",
    "from torch.quantization import QuantStub, DeQuantStub\n",
    "import torchvision.transforms as transforms\n",
    "import torchvision.transforms.functional as F\n",
    "torch.manual_seed(0)\n",
    "torch.cuda.manual_seed(0)\n",
    "np.random.seed(0)\n",
    "random.seed(0)"
   ]
  },
  {
   "cell_type": "code",
   "execution_count": 3,
   "id": "fb008da3",
   "metadata": {
    "execution": {
     "iopub.execute_input": "2024-02-24T22:05:27.733349Z",
     "iopub.status.busy": "2024-02-24T22:05:27.732294Z",
     "iopub.status.idle": "2024-02-24T22:05:39.560731Z",
     "shell.execute_reply": "2024-02-24T22:05:39.559767Z"
    },
    "papermill": {
     "duration": 11.83747,
     "end_time": "2024-02-24T22:05:39.563617",
     "exception": false,
     "start_time": "2024-02-24T22:05:27.726147",
     "status": "completed"
    },
    "tags": []
   },
   "outputs": [
    {
     "name": "stdout",
     "output_type": "stream",
     "text": [
      "Downloading https://www.cs.toronto.edu/~kriz/cifar-10-python.tar.gz to ./data/cifar-10-python.tar.gz\n"
     ]
    },
    {
     "name": "stderr",
     "output_type": "stream",
     "text": [
      "100%|██████████| 170498071/170498071 [00:08<00:00, 20578684.88it/s]\n"
     ]
    },
    {
     "name": "stdout",
     "output_type": "stream",
     "text": [
      "Extracting ./data/cifar-10-python.tar.gz to ./data\n"
     ]
    }
   ],
   "source": [
    "def test(model: nn.Module, dataloader: DataLoader, cuda=False) -> float:\n",
    "    correct = 0\n",
    "    total = 0\n",
    "    model.eval()\n",
    "    with torch.no_grad():\n",
    "        for data in dataloader:\n",
    "            inputs, labels = data\n",
    "            if cuda:\n",
    "              inputs = inputs.cuda()\n",
    "              labels = labels.cuda()\n",
    "            outputs = model(inputs)\n",
    "            _, predicted = torch.max(outputs.data, 1)\n",
    "            total += labels.size(0)\n",
    "            correct += (predicted == labels).sum().item()\n",
    "    return 100 * correct / total\n",
    "\n",
    "def evaluator(model, loader):\n",
    "  model.eval()\n",
    "  top_1 = 0\n",
    "  top_5 = 0\n",
    "  with torch.no_grad():\n",
    "    for data in loader:\n",
    "      inputs, labels = data\n",
    "      outputs = model(inputs)\n",
    "\n",
    "      _, predicted = torch.max(outputs, 1, keepdim=True)\n",
    "      top_1 += torch.sum(predicted.view(-1) == labels).item()\n",
    "\n",
    "      _, predicted_5 = torch.topk(outputs, k=5, dim=1)\n",
    "      top_5 += torch.sum(predicted_5 == labels.unsqueeze(1)).item()\n",
    "\n",
    "  return ((top_1/400) * 100, (top_5/400) * 100)\n",
    "\n",
    "\n",
    "\n",
    "transform = transforms.Compose([transforms.ToTensor(), transforms.Normalize([0.4914, 0.4822, 0.4465], [0.2023, 0.1994, 0.2010])])\n",
    "testset = torchvision.datasets.CIFAR10(root='./data', train=False,download=True, transform=transform)\n",
    "testloader = torch.utils.data.DataLoader(testset, batch_size=64,shuffle=False, num_workers=2, pin_memory=True)"
   ]
  },
  {
   "cell_type": "code",
   "execution_count": 4,
   "id": "a50d5ad9",
   "metadata": {
    "execution": {
     "iopub.execute_input": "2024-02-24T22:05:39.589400Z",
     "iopub.status.busy": "2024-02-24T22:05:39.589004Z",
     "iopub.status.idle": "2024-02-24T22:05:49.197309Z",
     "shell.execute_reply": "2024-02-24T22:05:49.196045Z"
    },
    "papermill": {
     "duration": 9.624534,
     "end_time": "2024-02-24T22:05:49.200150",
     "exception": false,
     "start_time": "2024-02-24T22:05:39.575616",
     "status": "completed"
    },
    "tags": []
   },
   "outputs": [],
   "source": [
    "\n",
    "(x_train, y_train), (x_test, y_test), min_pixel_value, max_pixel_value = load_cifar10()\n",
    "\n",
    "x_train = np.transpose(x_train, (0, 3, 1, 2)).astype(np.float32)\n",
    "x_test = np.transpose(x_test, (0, 3, 1, 2)).astype(np.float32)\n",
    "\n",
    "classes_cifar = ['airplane', 'automobile', 'bird', 'cat', 'deer', 'dog', 'frog', 'horse', 'ship', 'truck']\n",
    "\n",
    "y_test_set = np.zeros((400,),np.int8)\n",
    "\n",
    "y_train_set = np.zeros((400,),np.int8)\n",
    "\n",
    "\n",
    "for i in range(400):\n",
    "        y_test_set[i] = np.where(y_test[i] == 1)[0][0]\n",
    "\n",
    "for i in range(400):\n",
    "        y_train_set[i] = np.where(y_train[i] == 1)[0][0]\n",
    "        \n",
    "        \n",
    "        \n",
    "        \n"
   ]
  },
  {
   "cell_type": "code",
   "execution_count": 5,
   "id": "48281d39",
   "metadata": {
    "execution": {
     "iopub.execute_input": "2024-02-24T22:05:49.225932Z",
     "iopub.status.busy": "2024-02-24T22:05:49.225507Z",
     "iopub.status.idle": "2024-02-24T22:05:49.251511Z",
     "shell.execute_reply": "2024-02-24T22:05:49.250260Z"
    },
    "papermill": {
     "duration": 0.041818,
     "end_time": "2024-02-24T22:05:49.254016",
     "exception": false,
     "start_time": "2024-02-24T22:05:49.212198",
     "status": "completed"
    },
    "tags": []
   },
   "outputs": [],
   "source": [
    "try:\n",
    "    from torch.hub import load_state_dict_from_url\n",
    "except ImportError:\n",
    "    from torch.utils.model_zoo import load_url as load_state_dict_from_url\n",
    "from functools import partial\n",
    "from typing import Dict, Type, Any, Callable, Union, List, Optional\n",
    "from torch.ao.nn.quantized.modules.functional_modules import FloatFunctional\n",
    "def conv3x3(in_planes, out_planes, stride=1):\n",
    "    \"\"\"3x3 convolution with padding\"\"\"\n",
    "    return nn.Conv2d(in_planes, out_planes, kernel_size=3, stride=stride, padding=1, bias=False)\n",
    "\n",
    "def conv1x1(in_planes, out_planes, stride=1):\n",
    "    \"\"\"1x1 convolution\"\"\"\n",
    "    return nn.Conv2d(in_planes, out_planes, kernel_size=1, stride=stride, bias=False)\n",
    "\n",
    "class BasicBlock(nn.Module):\n",
    "    expansion = 1\n",
    "\n",
    "    def __init__(self, inplanes, planes, stride=1, downsample=None):\n",
    "        super(BasicBlock, self).__init__()\n",
    "        self.conv1 = conv3x3(inplanes, planes, stride)\n",
    "        self.bn1 = nn.BatchNorm2d(planes)\n",
    "        self.relu = nn.ReLU(inplace=True)\n",
    "        self.conv2 = conv3x3(planes, planes)\n",
    "        self.bn2 = nn.BatchNorm2d(planes)\n",
    "        self.downsample = downsample\n",
    "        self.stride = stride\n",
    "        self.ff = torch.nn.quantized.FloatFunctional()\n",
    "    def forward(self, x):\n",
    "        identity = x\n",
    "\n",
    "        out = self.conv1(x)\n",
    "        out = self.bn1(out)\n",
    "        out = self.relu(out)\n",
    "\n",
    "        out = self.conv2(out)\n",
    "        out = self.bn2(out)\n",
    "\n",
    "        if self.downsample is not None:\n",
    "            identity = self.downsample(x)\n",
    "\n",
    "        #out += identity\n",
    "        out = self.ff.add(out, identity)\n",
    "        out = self.relu(out)\n",
    "\n",
    "        return out\n",
    "\n",
    "\n",
    "class CifarResNet(nn.Module):\n",
    "\n",
    "    def __init__(self, block, layers, num_classes=10):\n",
    "        super(CifarResNet, self).__init__()\n",
    "        self.inplanes = 16\n",
    "        self.conv1 = conv3x3(3, 16)\n",
    "        self.bn1 = nn.BatchNorm2d(16)\n",
    "        self.relu = nn.ReLU(inplace=True)\n",
    "\n",
    "        self.layer1 = self._make_layer(block, 16, layers[0])\n",
    "        self.layer2 = self._make_layer(block, 32, layers[1], stride=2)\n",
    "        self.layer3 = self._make_layer(block, 64, layers[2], stride=2)\n",
    "\n",
    "        self.avgpool = nn.AdaptiveAvgPool2d((1, 1))\n",
    "        self.fc = nn.Linear(64 * block.expansion, num_classes)\n",
    "\n",
    "        for m in self.modules():\n",
    "            if isinstance(m, nn.Conv2d):\n",
    "                nn.init.kaiming_normal_(m.weight, mode='fan_out', nonlinearity='relu')\n",
    "            elif isinstance(m, nn.BatchNorm2d):\n",
    "                nn.init.constant_(m.weight, 1)\n",
    "                nn.init.constant_(m.bias, 0)\n",
    "\n",
    "    def _make_layer(self, block, planes, blocks, stride=1):\n",
    "        downsample = None\n",
    "        if stride != 1 or self.inplanes != planes * block.expansion:\n",
    "            downsample = nn.Sequential(\n",
    "                conv1x1(self.inplanes, planes * block.expansion, stride),\n",
    "                nn.BatchNorm2d(planes * block.expansion),\n",
    "            )\n",
    "\n",
    "        layers = []\n",
    "        layers.append(block(self.inplanes, planes, stride, downsample))\n",
    "        self.inplanes = planes * block.expansion\n",
    "        for _ in range(1, blocks):\n",
    "            layers.append(block(self.inplanes, planes))\n",
    "\n",
    "        return nn.Sequential(*layers)\n",
    "    def forward(self, x):\n",
    "        x = self.conv1(x)\n",
    "        x = self.bn1(x)\n",
    "        x = self.relu(x)\n",
    "\n",
    "        x = self.layer1(x)\n",
    "        x = self.layer2(x)\n",
    "        x = self.layer3(x)\n",
    "\n",
    "        x = self.avgpool(x)\n",
    "        x = x.view(x.size(0), -1)\n",
    "        x = self.fc(x)\n",
    "\n",
    "        return x"
   ]
  },
  {
   "cell_type": "code",
   "execution_count": 6,
   "id": "1c754ae2",
   "metadata": {
    "execution": {
     "iopub.execute_input": "2024-02-24T22:05:49.280241Z",
     "iopub.status.busy": "2024-02-24T22:05:49.279285Z",
     "iopub.status.idle": "2024-02-24T22:06:32.766642Z",
     "shell.execute_reply": "2024-02-24T22:06:32.764882Z"
    },
    "papermill": {
     "duration": 43.512356,
     "end_time": "2024-02-24T22:06:32.778356",
     "exception": false,
     "start_time": "2024-02-24T22:05:49.266000",
     "status": "completed"
    },
    "tags": []
   },
   "outputs": [
    {
     "name": "stderr",
     "output_type": "stream",
     "text": [
      "/opt/conda/lib/python3.10/site-packages/torch/_utils.py:355: UserWarning: TypedStorage is deprecated. It will be removed in the future and UntypedStorage will be the only storage class. This should only matter to you if you are using storages directly.  To access UntypedStorage directly, use tensor.untyped_storage() instead of tensor.storage()\n",
      "  device=storage.device,\n"
     ]
    },
    {
     "data": {
      "text/plain": [
       "<All keys matched successfully>"
      ]
     },
     "execution_count": 6,
     "metadata": {},
     "output_type": "execute_result"
    }
   ],
   "source": [
    "resnet56_model = CifarResNet(BasicBlock,[9]*3)\n",
    "#try:\n",
    "#    from torch.hub import load_state_dict_from_url\n",
    "#except ImportError:\n",
    "#    from torch.utils.model_zoo import load_url as load_state_dict_from_url\n",
    "#resnet56_model.load_state_dict(load_state_dict_from_url(\"https://github.com/chenyaofo/pytorch-cifar-models/releases/download/resnet/cifar10_resnet56-187c023a.pt\"))\n",
    "resnet56_model.load_state_dict(torch.load(\"resnet56quant/ResNet56_1it_CIFAR10_93.9acc.pkl\",map_location=torch.device(\"cpu\")))\n",
    "\n",
    "resnet56_model = torch.quantization.QuantWrapper(resnet56_model)\n",
    "B=8\n",
    "resnet56_model.qconfig = torch.quantization.QConfig(activation= MovingAverageMinMaxObserver.with_args(quant_min=0, quant_max=int(2 ** B - 1), dtype=torch.quint8,\n",
    "                                                              qscheme=torch.per_tensor_affine, reduce_range=False),\n",
    "                                                     weight= MovingAverageMinMaxObserver.with_args(quant_min=int(-(2 ** B) / 2), quant_max=int((2 ** B) / 2 - 1), dtype=torch.qint8,\n",
    "                                                              qscheme=torch.per_tensor_symmetric, reduce_range=False))\n",
    "torch.quantization.prepare(resnet56_model, inplace=True)\n",
    "\n",
    "resnet56_model.to(\"cpu\")\n",
    "test(resnet56_model, testloader, cuda=False)\n",
    "resnet56_model.to(\"cpu\")\n",
    "\n",
    "torch.quantization.convert(resnet56_model, inplace=True)\n",
    "\n",
    "resnet56_model.load_state_dict(torch.load(\"/resnet56-quantized-models/ResNet56_Quantized_1RT_93.64.pt\"))"
   ]
  },
  {
   "cell_type": "code",
   "execution_count": 7,
   "id": "78a0f31c",
   "metadata": {
    "execution": {
     "iopub.execute_input": "2024-02-24T22:06:32.805425Z",
     "iopub.status.busy": "2024-02-24T22:06:32.804977Z",
     "iopub.status.idle": "2024-02-25T08:01:02.291036Z",
     "shell.execute_reply": "2024-02-25T08:01:02.289844Z"
    },
    "papermill": {
     "duration": 35669.503219,
     "end_time": "2024-02-25T08:01:02.294087",
     "exception": false,
     "start_time": "2024-02-24T22:06:32.790868",
     "status": "completed"
    },
    "tags": []
   },
   "outputs": [
    {
     "name": "stdout",
     "output_type": "stream",
     "text": [
      "HopSkipJump Attack Initialization\n"
     ]
    },
    {
     "data": {
      "application/vnd.jupyter.widget-view+json": {
       "model_id": "2f76b0b0f56e469ba3be6644784a8ade",
       "version_major": 2,
       "version_minor": 0
      },
      "text/plain": [
       "HopSkipJump:   0%|          | 0/400 [00:00<?, ?it/s]"
      ]
     },
     "metadata": {},
     "output_type": "display_data"
    }
   ],
   "source": [
    "# Step 2a: Define the loss function and the optimizer\n",
    "criterion = nn.CrossEntropyLoss()\n",
    "optimizer = optim.SGD(resnet56_model.parameters(), lr=0.01, momentum=0.9, dampening=0,weight_decay=0.0005, nesterov=True)\n",
    "\n",
    "# Step 3: Create the ART classifier\n",
    "classifier = PyTorchClassifier(\n",
    "    model=resnet56_model,\n",
    "    clip_values=(min_pixel_value, max_pixel_value),\n",
    "    loss=criterion,\n",
    "    optimizer=optimizer,\n",
    "    preprocessing=((0.4914, 0.4822, 0.4465), (0.247, 0.243, 0.261)),\n",
    "    input_shape=(3, 32, 32),\n",
    "    nb_classes=10,\n",
    "    device_type = \"cpu\"\n",
    ")\n",
    "print(\"HopSkipJump Attack Initialization\")\n",
    "attack = HopSkipJump(classifier,64,targeted = False,verbose = True)\n",
    "x_test_hop_res56quant = attack.generate(x_train[0:400],y_train_set[0:400])\n",
    "with open(\"x_train_hop_res56_quant_400_psnr_check_1_retrain.pkl\",'wb') as f:\n",
    "    pickle.dump(x_test_hop_res56quant,f)"
   ]
  }
 ],
 "metadata": {
  "kaggle": {
   "accelerator": "none",
   "dataSources": [
    {
     "datasetId": 4404339,
     "sourceId": 7563913,
     "sourceType": "datasetVersion"
    },
    {
     "datasetId": 4490577,
     "sourceId": 7694190,
     "sourceType": "datasetVersion"
    }
   ],
   "dockerImageVersionId": 30646,
   "isGpuEnabled": false,
   "isInternetEnabled": true,
   "language": "python",
   "sourceType": "notebook"
  },
  "kernelspec": {
   "display_name": "Python 3",
   "language": "python",
   "name": "python3"
  },
  "language_info": {
   "codemirror_mode": {
    "name": "ipython",
    "version": 3
   },
   "file_extension": ".py",
   "mimetype": "text/x-python",
   "name": "python",
   "nbconvert_exporter": "python",
   "pygments_lexer": "ipython3",
   "version": "3.10.13"
  },
  "papermill": {
   "default_parameters": {},
   "duration": 35770.231337,
   "end_time": "2024-02-25T08:01:05.220033",
   "environment_variables": {},
   "exception": null,
   "input_path": "__notebook__.ipynb",
   "output_path": "__notebook__.ipynb",
   "parameters": {},
   "start_time": "2024-02-24T22:04:54.988696",
   "version": "2.5.0"
  },
  "widgets": {
   "application/vnd.jupyter.widget-state+json": {
    "state": {
     "2f76b0b0f56e469ba3be6644784a8ade": {
      "model_module": "@jupyter-widgets/controls",
      "model_module_version": "1.5.0",
      "model_name": "HBoxModel",
      "state": {
       "_dom_classes": [],
       "_model_module": "@jupyter-widgets/controls",
       "_model_module_version": "1.5.0",
       "_model_name": "HBoxModel",
       "_view_count": null,
       "_view_module": "@jupyter-widgets/controls",
       "_view_module_version": "1.5.0",
       "_view_name": "HBoxView",
       "box_style": "",
       "children": [
        "IPY_MODEL_efa1e2d972394624a83283de2bb07ddc",
        "IPY_MODEL_52800c356b734a8aaf9b8e7af34cbfa5",
        "IPY_MODEL_92544cfebd0843bdb098b9de47b9e3fb"
       ],
       "layout": "IPY_MODEL_75390f0215cd4149bc681e7a8ca40a64"
      }
     },
     "3bdf3148aa2040bf8a8ad9206e1c2ed5": {
      "model_module": "@jupyter-widgets/controls",
      "model_module_version": "1.5.0",
      "model_name": "DescriptionStyleModel",
      "state": {
       "_model_module": "@jupyter-widgets/controls",
       "_model_module_version": "1.5.0",
       "_model_name": "DescriptionStyleModel",
       "_view_count": null,
       "_view_module": "@jupyter-widgets/base",
       "_view_module_version": "1.2.0",
       "_view_name": "StyleView",
       "description_width": ""
      }
     },
     "52800c356b734a8aaf9b8e7af34cbfa5": {
      "model_module": "@jupyter-widgets/controls",
      "model_module_version": "1.5.0",
      "model_name": "FloatProgressModel",
      "state": {
       "_dom_classes": [],
       "_model_module": "@jupyter-widgets/controls",
       "_model_module_version": "1.5.0",
       "_model_name": "FloatProgressModel",
       "_view_count": null,
       "_view_module": "@jupyter-widgets/controls",
       "_view_module_version": "1.5.0",
       "_view_name": "ProgressView",
       "bar_style": "success",
       "description": "",
       "description_tooltip": null,
       "layout": "IPY_MODEL_eed9d97ef00540bc92d18764f1c3e6e0",
       "max": 400,
       "min": 0,
       "orientation": "horizontal",
       "style": "IPY_MODEL_e35e6f558eb446f78c024b79d67f2bf6",
       "value": 400
      }
     },
     "75390f0215cd4149bc681e7a8ca40a64": {
      "model_module": "@jupyter-widgets/base",
      "model_module_version": "1.2.0",
      "model_name": "LayoutModel",
      "state": {
       "_model_module": "@jupyter-widgets/base",
       "_model_module_version": "1.2.0",
       "_model_name": "LayoutModel",
       "_view_count": null,
       "_view_module": "@jupyter-widgets/base",
       "_view_module_version": "1.2.0",
       "_view_name": "LayoutView",
       "align_content": null,
       "align_items": null,
       "align_self": null,
       "border": null,
       "bottom": null,
       "display": null,
       "flex": null,
       "flex_flow": null,
       "grid_area": null,
       "grid_auto_columns": null,
       "grid_auto_flow": null,
       "grid_auto_rows": null,
       "grid_column": null,
       "grid_gap": null,
       "grid_row": null,
       "grid_template_areas": null,
       "grid_template_columns": null,
       "grid_template_rows": null,
       "height": null,
       "justify_content": null,
       "justify_items": null,
       "left": null,
       "margin": null,
       "max_height": null,
       "max_width": null,
       "min_height": null,
       "min_width": null,
       "object_fit": null,
       "object_position": null,
       "order": null,
       "overflow": null,
       "overflow_x": null,
       "overflow_y": null,
       "padding": null,
       "right": null,
       "top": null,
       "visibility": null,
       "width": null
      }
     },
     "92544cfebd0843bdb098b9de47b9e3fb": {
      "model_module": "@jupyter-widgets/controls",
      "model_module_version": "1.5.0",
      "model_name": "HTMLModel",
      "state": {
       "_dom_classes": [],
       "_model_module": "@jupyter-widgets/controls",
       "_model_module_version": "1.5.0",
       "_model_name": "HTMLModel",
       "_view_count": null,
       "_view_module": "@jupyter-widgets/controls",
       "_view_module_version": "1.5.0",
       "_view_name": "HTMLView",
       "description": "",
       "description_tooltip": null,
       "layout": "IPY_MODEL_de788401999845989e8357252194be93",
       "placeholder": "​",
       "style": "IPY_MODEL_ea677c006fc54fa0989c7e4c0d158d6f",
       "value": " 400/400 [9:54:25&lt;00:00, 90.21s/it]"
      }
     },
     "d33b2b93244b4307a91e492e5c79f5b8": {
      "model_module": "@jupyter-widgets/base",
      "model_module_version": "1.2.0",
      "model_name": "LayoutModel",
      "state": {
       "_model_module": "@jupyter-widgets/base",
       "_model_module_version": "1.2.0",
       "_model_name": "LayoutModel",
       "_view_count": null,
       "_view_module": "@jupyter-widgets/base",
       "_view_module_version": "1.2.0",
       "_view_name": "LayoutView",
       "align_content": null,
       "align_items": null,
       "align_self": null,
       "border": null,
       "bottom": null,
       "display": null,
       "flex": null,
       "flex_flow": null,
       "grid_area": null,
       "grid_auto_columns": null,
       "grid_auto_flow": null,
       "grid_auto_rows": null,
       "grid_column": null,
       "grid_gap": null,
       "grid_row": null,
       "grid_template_areas": null,
       "grid_template_columns": null,
       "grid_template_rows": null,
       "height": null,
       "justify_content": null,
       "justify_items": null,
       "left": null,
       "margin": null,
       "max_height": null,
       "max_width": null,
       "min_height": null,
       "min_width": null,
       "object_fit": null,
       "object_position": null,
       "order": null,
       "overflow": null,
       "overflow_x": null,
       "overflow_y": null,
       "padding": null,
       "right": null,
       "top": null,
       "visibility": null,
       "width": null
      }
     },
     "de788401999845989e8357252194be93": {
      "model_module": "@jupyter-widgets/base",
      "model_module_version": "1.2.0",
      "model_name": "LayoutModel",
      "state": {
       "_model_module": "@jupyter-widgets/base",
       "_model_module_version": "1.2.0",
       "_model_name": "LayoutModel",
       "_view_count": null,
       "_view_module": "@jupyter-widgets/base",
       "_view_module_version": "1.2.0",
       "_view_name": "LayoutView",
       "align_content": null,
       "align_items": null,
       "align_self": null,
       "border": null,
       "bottom": null,
       "display": null,
       "flex": null,
       "flex_flow": null,
       "grid_area": null,
       "grid_auto_columns": null,
       "grid_auto_flow": null,
       "grid_auto_rows": null,
       "grid_column": null,
       "grid_gap": null,
       "grid_row": null,
       "grid_template_areas": null,
       "grid_template_columns": null,
       "grid_template_rows": null,
       "height": null,
       "justify_content": null,
       "justify_items": null,
       "left": null,
       "margin": null,
       "max_height": null,
       "max_width": null,
       "min_height": null,
       "min_width": null,
       "object_fit": null,
       "object_position": null,
       "order": null,
       "overflow": null,
       "overflow_x": null,
       "overflow_y": null,
       "padding": null,
       "right": null,
       "top": null,
       "visibility": null,
       "width": null
      }
     },
     "e35e6f558eb446f78c024b79d67f2bf6": {
      "model_module": "@jupyter-widgets/controls",
      "model_module_version": "1.5.0",
      "model_name": "ProgressStyleModel",
      "state": {
       "_model_module": "@jupyter-widgets/controls",
       "_model_module_version": "1.5.0",
       "_model_name": "ProgressStyleModel",
       "_view_count": null,
       "_view_module": "@jupyter-widgets/base",
       "_view_module_version": "1.2.0",
       "_view_name": "StyleView",
       "bar_color": null,
       "description_width": ""
      }
     },
     "ea677c006fc54fa0989c7e4c0d158d6f": {
      "model_module": "@jupyter-widgets/controls",
      "model_module_version": "1.5.0",
      "model_name": "DescriptionStyleModel",
      "state": {
       "_model_module": "@jupyter-widgets/controls",
       "_model_module_version": "1.5.0",
       "_model_name": "DescriptionStyleModel",
       "_view_count": null,
       "_view_module": "@jupyter-widgets/base",
       "_view_module_version": "1.2.0",
       "_view_name": "StyleView",
       "description_width": ""
      }
     },
     "eed9d97ef00540bc92d18764f1c3e6e0": {
      "model_module": "@jupyter-widgets/base",
      "model_module_version": "1.2.0",
      "model_name": "LayoutModel",
      "state": {
       "_model_module": "@jupyter-widgets/base",
       "_model_module_version": "1.2.0",
       "_model_name": "LayoutModel",
       "_view_count": null,
       "_view_module": "@jupyter-widgets/base",
       "_view_module_version": "1.2.0",
       "_view_name": "LayoutView",
       "align_content": null,
       "align_items": null,
       "align_self": null,
       "border": null,
       "bottom": null,
       "display": null,
       "flex": null,
       "flex_flow": null,
       "grid_area": null,
       "grid_auto_columns": null,
       "grid_auto_flow": null,
       "grid_auto_rows": null,
       "grid_column": null,
       "grid_gap": null,
       "grid_row": null,
       "grid_template_areas": null,
       "grid_template_columns": null,
       "grid_template_rows": null,
       "height": null,
       "justify_content": null,
       "justify_items": null,
       "left": null,
       "margin": null,
       "max_height": null,
       "max_width": null,
       "min_height": null,
       "min_width": null,
       "object_fit": null,
       "object_position": null,
       "order": null,
       "overflow": null,
       "overflow_x": null,
       "overflow_y": null,
       "padding": null,
       "right": null,
       "top": null,
       "visibility": null,
       "width": null
      }
     },
     "efa1e2d972394624a83283de2bb07ddc": {
      "model_module": "@jupyter-widgets/controls",
      "model_module_version": "1.5.0",
      "model_name": "HTMLModel",
      "state": {
       "_dom_classes": [],
       "_model_module": "@jupyter-widgets/controls",
       "_model_module_version": "1.5.0",
       "_model_name": "HTMLModel",
       "_view_count": null,
       "_view_module": "@jupyter-widgets/controls",
       "_view_module_version": "1.5.0",
       "_view_name": "HTMLView",
       "description": "",
       "description_tooltip": null,
       "layout": "IPY_MODEL_d33b2b93244b4307a91e492e5c79f5b8",
       "placeholder": "​",
       "style": "IPY_MODEL_3bdf3148aa2040bf8a8ad9206e1c2ed5",
       "value": "HopSkipJump: 100%"
      }
     }
    },
    "version_major": 2,
    "version_minor": 0
   }
  }
 },
 "nbformat": 4,
 "nbformat_minor": 5
}
